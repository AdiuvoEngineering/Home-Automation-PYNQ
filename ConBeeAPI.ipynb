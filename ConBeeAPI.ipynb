{
 "cells": [
  {
   "cell_type": "code",
   "execution_count": 6,
   "id": "e370e472",
   "metadata": {
    "extensions": {
     "jupyter_dashboards": {
      "activeView": "grid_default",
      "views": {
       "grid_default": {
        "col": null,
        "height": 2,
        "hidden": true,
        "row": null,
        "width": 2
       }
      }
     }
    },
    "scrolled": true
   },
   "outputs": [],
   "source": [
    "import requests\n",
    "import json\n"
   ]
  },
  {
   "cell_type": "code",
   "execution_count": 7,
   "id": "c6438a67",
   "metadata": {
    "extensions": {
     "jupyter_dashboards": {
      "activeView": "grid_default",
      "views": {
       "grid_default": {
        "col": null,
        "height": 2,
        "hidden": true,
        "row": null,
        "width": 2
       }
      }
     }
    }
   },
   "outputs": [],
   "source": [
    "# Work station1 IP: 192.168.0.38 \n",
    "# Work station2 IP: 172.16.50.11\n",
    "# Work station3 IP: 172.16.50.22"
   ]
  },
  {
   "cell_type": "code",
   "execution_count": 8,
   "id": "50a311ae",
   "metadata": {
    "extensions": {
     "jupyter_dashboards": {
      "activeView": "grid_default",
      "views": {
       "grid_default": {
        "col": null,
        "height": 2,
        "hidden": true,
        "row": null,
        "width": 2
       }
      }
     }
    }
   },
   "outputs": [],
   "source": [
    "## Get new API key and Authorize\n",
    "URL = \"http://172.16.50.22:8090/api\"#\"http://192.168.0.38:8090/api\"\n",
    "\n",
    "device = {'devicetype': 'application'}\n",
    "\n",
    "p = requests.post(URL, json=device)\n",
    "\n",
    "pretty_json = json.loads(p.text)\n",
    "#print (json.dumps(pretty_json, indent=2))\n",
    "\n"
   ]
  },
  {
   "cell_type": "code",
   "execution_count": null,
   "id": "2a7f6266",
   "metadata": {
    "extensions": {
     "jupyter_dashboards": {
      "activeView": "grid_default",
      "views": {
       "grid_default": {
        "col": null,
        "height": 2,
        "hidden": true,
        "row": null,
        "width": 2
       }
      }
     }
    }
   },
   "outputs": [],
   "source": []
  },
  {
   "cell_type": "code",
   "execution_count": 9,
   "id": "4c7f2b23",
   "metadata": {
    "extensions": {
     "jupyter_dashboards": {
      "activeView": "grid_default",
      "views": {
       "grid_default": {
        "col": null,
        "height": 2,
        "hidden": true,
        "row": null,
        "width": 2
       }
      }
     }
    }
   },
   "outputs": [],
   "source": [
    "r = requests.get(URL+\"/<API_KEY>/lights/1\")\n",
    "pretty_json = json.loads(r.text)\n",
    "#print (json.dumps(pretty_json, indent=2))\n"
   ]
  },
  {
   "cell_type": "code",
   "execution_count": 10,
   "id": "052a4207",
   "metadata": {
    "extensions": {
     "jupyter_dashboards": {
      "activeView": "grid_default",
      "views": {
       "grid_default": {
        "col": null,
        "height": 2,
        "hidden": true,
        "row": null,
        "width": 2
       }
      }
     }
    }
   },
   "outputs": [],
   "source": [
    "\n",
    "data = {\"on\": True, \n",
    "        \"bri\" : 100,\n",
    "        \"hue\" : 41870\n",
    "       }\n",
    "\n",
    "r = requests.put(URL+\"/<API_KEY>/lights/1/state\", json = data)\n",
    "\n",
    "#print(r)\n",
    "pretty_json = json.loads(r.text)\n",
    "#print (json.dumps(pretty_json, indent=2))\n"
   ]
  },
  {
   "cell_type": "code",
   "execution_count": 11,
   "id": "8aae305d",
   "metadata": {
    "extensions": {
     "jupyter_dashboards": {
      "activeView": "grid_default",
      "views": {
       "grid_default": {
        "col": null,
        "height": 2,
        "hidden": true,
        "row": null,
        "width": 2
       }
      }
     }
    },
    "tags": []
   },
   "outputs": [],
   "source": [
    "import ipywidgets as widgets"
   ]
  },
  {
   "cell_type": "code",
   "execution_count": 12,
   "id": "8c07ca32",
   "metadata": {
    "extensions": {
     "jupyter_dashboards": {
      "activeView": "grid_default",
      "views": {
       "grid_default": {
        "col": 0,
        "height": 1,
        "hidden": false,
        "row": 0,
        "width": 2
       }
      }
     }
    }
   },
   "outputs": [
    {
     "data": {
      "application/vnd.jupyter.widget-view+json": {
       "model_id": "eb79922633484307bf85b5fe7c0e3a4f",
       "version_major": 2,
       "version_minor": 0
      },
      "text/plain": [
       "Button(description='On', style=ButtonStyle())"
      ]
     },
     "metadata": {},
     "output_type": "display_data"
    },
    {
     "name": "stdout",
     "output_type": "stream",
     "text": [
      "Lamp is On!\n",
      "Lamp is On!\n"
     ]
    }
   ],
   "source": [
    "btn = widgets.Button(description='On')\n",
    "display(btn)\n",
    "def btn_eventhandler(obj):\n",
    "    \n",
    "    data = {\"on\": True}\n",
    "    \n",
    "    r = requests.put(URL+\"/<API_KEY>/lights/1/state\", json = data)\n",
    "\n",
    "    print(\"Lamp is On!\")\n",
    "    \n",
    "btn.on_click(btn_eventhandler)\n"
   ]
  },
  {
   "cell_type": "code",
   "execution_count": 13,
   "id": "f3c6c967",
   "metadata": {
    "extensions": {
     "jupyter_dashboards": {
      "activeView": "grid_default",
      "views": {
       "grid_default": {
        "col": 0,
        "height": 1,
        "hidden": false,
        "row": 1,
        "width": 2
       }
      }
     }
    }
   },
   "outputs": [
    {
     "data": {
      "application/vnd.jupyter.widget-view+json": {
       "model_id": "170875a0d88c42f88072ec81335d5128",
       "version_major": 2,
       "version_minor": 0
      },
      "text/plain": [
       "Button(description='OFF', style=ButtonStyle())"
      ]
     },
     "metadata": {},
     "output_type": "display_data"
    },
    {
     "name": "stdout",
     "output_type": "stream",
     "text": [
      "Lamp is OFF!\n"
     ]
    }
   ],
   "source": [
    "btn = widgets.Button(description='OFF')\n",
    "display(btn)\n",
    "def btn_eventhandler(obj):\n",
    "    \n",
    "    data = {\"on\": False}\n",
    "    \n",
    "    r = requests.put(URL+\"/<API_KEY>/lights/1/state\", json = data)\n",
    "\n",
    "    print(\"Lamp is OFF!\")\n",
    "    \n",
    "btn.on_click(btn_eventhandler)\n"
   ]
  },
  {
   "cell_type": "code",
   "execution_count": null,
   "id": "c778e0de",
   "metadata": {
    "extensions": {
     "jupyter_dashboards": {
      "activeView": "grid_default",
      "views": {
       "grid_default": {
        "col": null,
        "height": 2,
        "hidden": true,
        "row": null,
        "width": 2
       }
      }
     }
    }
   },
   "outputs": [],
   "source": []
  },
  {
   "cell_type": "code",
   "execution_count": 14,
   "id": "d2e61aeb",
   "metadata": {
    "extensions": {
     "jupyter_dashboards": {
      "activeView": "grid_default",
      "views": {
       "grid_default": {
        "col": 2,
        "height": 2,
        "hidden": false,
        "row": 0,
        "width": 3
       }
      }
     }
    }
   },
   "outputs": [
    {
     "data": {
      "application/vnd.jupyter.widget-view+json": {
       "model_id": "dcd6c30aaff04c74b2e806a7d889c3cc",
       "version_major": 2,
       "version_minor": 0
      },
      "text/plain": [
       "ColorPicker(value='#121254', description='Pick a color')"
      ]
     },
     "metadata": {},
     "output_type": "display_data"
    }
   ],
   "source": [
    "colorpicker = widgets.ColorPicker(\n",
    "        concise=False,\n",
    "        description='Pick a color',\n",
    "        value=\"#121254\",\n",
    "        disabled=False )\n",
    "colorpicker ## Click the little blue square "
   ]
  },
  {
   "cell_type": "code",
   "execution_count": null,
   "id": "bff38ff2",
   "metadata": {
    "extensions": {
     "jupyter_dashboards": {
      "activeView": "grid_default",
      "views": {
       "grid_default": {
        "col": 4,
        "height": 1,
        "hidden": true,
        "row": 0,
        "width": 1
       }
      }
     }
    }
   },
   "outputs": [],
   "source": [
    "\n"
   ]
  },
  {
   "cell_type": "code",
   "execution_count": 22,
   "id": "c84eafa4",
   "metadata": {
    "extensions": {
     "jupyter_dashboards": {
      "activeView": "grid_default",
      "views": {
       "grid_default": {
        "col": null,
        "height": 2,
        "hidden": true,
        "row": null,
        "width": 2
       }
      }
     }
    }
   },
   "outputs": [],
   "source": [
    "import math \n",
    "#print(colorpicker.value)\n",
    "def RGBtoHSV(colorpicker):\n",
    "    R = int(colorpicker.value[1:3],16)\n",
    "    G = int(colorpicker.value[3:5],16)\n",
    "    B = int(colorpicker.value[5:7],16)\n",
    "\n",
    "    R1 = R/255\n",
    "    G1 = G/255\n",
    "    B1 = B/255\n",
    "\n",
    "    #print(R1)\n",
    "    #print(G1)\n",
    "    #print(B1)\n",
    "    #print(\"\\n\")\n",
    "\n",
    "\n",
    "    Cmax = max(R1,G1,B1)\n",
    "\n",
    "    #print(Cmax)\n",
    "\n",
    "    Cmin = min(R1,G1,B1)\n",
    "    #print(Cmin)\n",
    "\n",
    "    delta = Cmax - Cmin\n",
    "\n",
    "    if delta != 0:\n",
    "        if Cmax == R1:\n",
    "            Hue = round(60*(((G1-B1)/delta)%6))\n",
    "        elif Cmax == G1:\n",
    "            Hue = round(60*(((B1-R1)/delta)+2))\n",
    "        else:\n",
    "            Hue = round(60*(((R1-G1)/delta)+4))\n",
    "    else:\n",
    "        if Cmax == R1:\n",
    "            Hue = R1\n",
    "        if Cmax == G1:\n",
    "            Hue = G1\n",
    "        if Cmax == B1:\n",
    "            Hue = B1\n",
    "\n",
    "    if Cmax != 0:\n",
    "        Sat = 255*(delta/Cmax)\n",
    "        #print(\"\\nSaturation: {0}% of 255 is {1}\".format(round((delta/Cmax)*100), round(Sat)))\n",
    "    else:\n",
    "        Sat = 0\n",
    "        #print(\"Saturation: 0%\")\n",
    "    Vis = 255 * Cmax\n",
    "\n",
    "    Hue = round(Hue * ((2**16)/360)) ## Mapped to 360 degrees\n",
    "\n",
    "    #print(\"Visablity: {0}% of 255 is {1}\".format(round((Cmax*100)), Vis))\n",
    "\n",
    "    #print(\"\\nRed {0} Green {1} Blue {2}\".format(R,G,B))\n",
    "    #print(\"Hue {0} Sat {1} Vis {2}\".format(Hue,round(Sat),round(Vis)))\n",
    "    #print (json.dumps(pretty_json, indent=2))\n",
    "    return Hue, Sat, Vis\n"
   ]
  },
  {
   "cell_type": "code",
   "execution_count": 23,
   "id": "fff0e6c5-9287-4f2e-aef0-a4a56328e2de",
   "metadata": {
    "extensions": {
     "jupyter_dashboards": {
      "activeView": "grid_default",
      "views": {
       "grid_default": {
        "col": null,
        "height": 2,
        "hidden": true,
        "row": null,
        "width": 2
       }
      }
     }
    }
   },
   "outputs": [],
   "source": [
    "Hue,Sat,Vis = RGBtoHSV(colorpicker)"
   ]
  },
  {
   "cell_type": "code",
   "execution_count": 24,
   "id": "b4aed7b1",
   "metadata": {
    "extensions": {
     "jupyter_dashboards": {
      "activeView": "grid_default",
      "views": {
       "grid_default": {
        "col": null,
        "height": 2,
        "hidden": true,
        "row": null,
        "width": 2
       }
      }
     }
    }
   },
   "outputs": [],
   "source": [
    "\n",
    "data = {\"on\": True, \n",
    "        \"bri\" : Vis,\n",
    "        \"hue\" : Hue,\n",
    "        \"sat\" : Sat\n",
    "       }\n",
    "\n",
    "r = requests.put(URL+\"/<API_KEY>/lights/1/state\", json = data)\n",
    "\n",
    "#print(r)\n",
    "pretty_json = json.loads(r.text)\n",
    "#print (json.dumps(pretty_json, indent=2))"
   ]
  },
  {
   "cell_type": "code",
   "execution_count": null,
   "id": "2c264b51-fa10-42be-b159-47fa25e33c69",
   "metadata": {
    "extensions": {
     "jupyter_dashboards": {
      "activeView": "grid_default",
      "views": {
       "grid_default": {
        "col": null,
        "height": 2,
        "hidden": true,
        "row": null,
        "width": 2
       }
      }
     }
    }
   },
   "outputs": [],
   "source": []
  },
  {
   "cell_type": "code",
   "execution_count": 30,
   "id": "31e82186",
   "metadata": {
    "extensions": {
     "jupyter_dashboards": {
      "activeView": "grid_default",
      "views": {
       "grid_default": {
        "col": 0,
        "height": 3,
        "hidden": false,
        "row": 2,
        "width": 4
       }
      }
     }
    }
   },
   "outputs": [
    {
     "data": {
      "application/vnd.jupyter.widget-view+json": {
       "model_id": "e05326f853794b2d9cec0bb14fc065b7",
       "version_major": 2,
       "version_minor": 0
      },
      "text/plain": [
       "interactive(children=(IntSlider(value=32768, description='Hue', max=65536), IntSlider(value=127, description='…"
      ]
     },
     "metadata": {},
     "output_type": "display_data"
    }
   ],
   "source": [
    "@widgets.interact(Hue =(0,65536),Saturation =(0,255),Brightness =(0,255))\n",
    "\n",
    "def sliders(Hue,Saturation,Brightness):\n",
    "    data = {\"on\": True, \n",
    "        \"bri\" : Brightness,\n",
    "        \"hue\" : Hue,\n",
    "        \"sat\" : Saturation\n",
    "       }\n",
    "\n",
    "    r = requests.put(URL+\"/<API_KEY>/lights/1/state\", json = data)\n",
    "\n",
    "    #print(r)\n",
    "    pretty_json = json.loads(r.text)\n",
    "    #print (json.dumps(pretty_json, indent=2))\n",
    "\n"
   ]
  },
  {
   "cell_type": "code",
   "execution_count": null,
   "id": "ea3752c1",
   "metadata": {
    "extensions": {
     "jupyter_dashboards": {
      "activeView": "grid_default",
      "views": {
       "grid_default": {
        "col": null,
        "height": 2,
        "hidden": true,
        "row": null,
        "width": 2
       }
      }
     }
    }
   },
   "outputs": [],
   "source": [
    "\n",
    "\n",
    "    \n"
   ]
  },
  {
   "cell_type": "code",
   "execution_count": null,
   "id": "6d9a68a3",
   "metadata": {
    "extensions": {
     "jupyter_dashboards": {
      "activeView": "grid_default",
      "views": {
       "grid_default": {
        "col": null,
        "height": 2,
        "hidden": true,
        "row": null,
        "width": 2
       }
      }
     }
    }
   },
   "outputs": [],
   "source": []
  },
  {
   "cell_type": "code",
   "execution_count": null,
   "id": "fcd11ddc-57a0-476f-855b-9da8d6e72857",
   "metadata": {
    "extensions": {
     "jupyter_dashboards": {
      "activeView": "grid_default",
      "views": {
       "grid_default": {
        "col": null,
        "height": 2,
        "hidden": true,
        "row": null,
        "width": 2
       }
      }
     }
    }
   },
   "outputs": [],
   "source": []
  },
  {
   "cell_type": "code",
   "execution_count": null,
   "id": "80f4be06",
   "metadata": {
    "extensions": {
     "jupyter_dashboards": {
      "activeView": "grid_default",
      "views": {
       "grid_default": {
        "col": null,
        "height": 2,
        "hidden": true,
        "row": null,
        "width": 2
       }
      }
     }
    }
   },
   "outputs": [],
   "source": []
  },
  {
   "cell_type": "code",
   "execution_count": null,
   "id": "90d3fc0e",
   "metadata": {
    "extensions": {
     "jupyter_dashboards": {
      "activeView": "grid_default",
      "views": {
       "grid_default": {
        "col": null,
        "height": 2,
        "hidden": true,
        "row": null,
        "width": 2
       }
      }
     }
    }
   },
   "outputs": [],
   "source": []
  },
  {
   "cell_type": "code",
   "execution_count": null,
   "id": "fac0e2c0",
   "metadata": {
    "extensions": {
     "jupyter_dashboards": {
      "activeView": "grid_default",
      "views": {
       "grid_default": {
        "col": null,
        "height": 2,
        "hidden": true,
        "row": null,
        "width": 2
       }
      }
     }
    }
   },
   "outputs": [],
   "source": []
  },
  {
   "cell_type": "code",
   "execution_count": null,
   "id": "be68311a",
   "metadata": {
    "extensions": {
     "jupyter_dashboards": {
      "activeView": "grid_default",
      "views": {
       "grid_default": {
        "col": null,
        "height": 2,
        "hidden": true,
        "row": null,
        "width": 2
       }
      }
     }
    }
   },
   "outputs": [],
   "source": []
  }
 ],
 "metadata": {
  "extensions": {
   "jupyter_dashboards": {
    "activeView": "grid_default",
    "version": 1,
    "views": {
     "grid_default": {
      "cellMargin": 1,
      "defaultCellHeight": 60,
      "maxColumns": 12,
      "name": "grid",
      "type": "grid"
     }
    }
   }
  },
  "kernelspec": {
   "display_name": "Python 3",
   "language": "python",
   "name": "python3"
  },
  "language_info": {
   "codemirror_mode": {
    "name": "ipython",
    "version": 3
   },
   "file_extension": ".py",
   "mimetype": "text/x-python",
   "name": "python",
   "nbconvert_exporter": "python",
   "pygments_lexer": "ipython3",
   "version": "3.8.2"
  }
 },
 "nbformat": 4,
 "nbformat_minor": 5
}
